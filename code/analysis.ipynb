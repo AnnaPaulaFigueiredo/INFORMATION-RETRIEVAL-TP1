{
 "cells": [
  {
   "cell_type": "code",
   "execution_count": 1,
   "metadata": {},
   "outputs": [
    {
     "name": "stderr",
     "output_type": "stream",
     "text": [
      "c:\\Users\\annap\\miniconda3\\envs\\ri-env\\Lib\\site-packages\\tqdm\\auto.py:21: TqdmWarning: IProgress not found. Please update jupyter and ipywidgets. See https://ipywidgets.readthedocs.io/en/stable/user_install.html\n",
      "  from .autonotebook import tqdm as notebook_tqdm\n",
      "[nltk_data] Downloading package stopwords to\n",
      "[nltk_data]     C:\\Users\\annap\\AppData\\Roaming\\nltk_data...\n",
      "[nltk_data]   Package stopwords is already up-to-date!\n",
      "[nltk_data] Downloading package wordnet to\n",
      "[nltk_data]     C:\\Users\\annap\\AppData\\Roaming\\nltk_data...\n",
      "[nltk_data]   Package wordnet is already up-to-date!\n",
      "[nltk_data] Downloading package punkt to\n",
      "[nltk_data]     C:\\Users\\annap\\AppData\\Roaming\\nltk_data...\n",
      "[nltk_data]   Package punkt is already up-to-date!\n"
     ]
    },
    {
     "data": {
      "text/plain": [
       "True"
      ]
     },
     "execution_count": 1,
     "metadata": {},
     "output_type": "execute_result"
    }
   ],
   "source": [
    "import faiss\t\t\n",
    "import matplotlib.pyplot as\tplt\n",
    "import nltk\n",
    "import numpy as\tnp\n",
    "import pandas as pd\n",
    "import random\t\t\t\n",
    "import re\t\t\n",
    "import seaborn as sns\n",
    "import spacy\t\t\n",
    "import statistics\t\t\n",
    "import string\t\t\n",
    "import time\t\n",
    "from nltk.corpus import\tstopwords, wordnet\n",
    "from nltk.stem import\tPorterStemmer, SnowballStemmer\n",
    "from nltk.tokenize import\tword_tokenize\n",
    "from sentence_transformers import SentenceTransformer\n",
    "from sklearn.feature_extraction.text import\tTfidfVectorizer\n",
    "from tqdm import tqdm\n",
    "\t\n",
    "pd.options.display.float_format = '{:,.4f}'.format\n",
    "tqdm.pandas()\n",
    "\n",
    "sns.set_palette('gray')\n",
    "sns.set_style(\"whitegrid\")\n",
    "\n",
    "nlp = spacy.load(\"en_core_web_sm\")\n",
    "nltk.download('stopwords')\n",
    "nltk.download('wordnet')\n",
    "nltk.download('punkt')"
   ]
  },
  {
   "cell_type": "code",
   "execution_count": 2,
   "metadata": {},
   "outputs": [
    {
     "data": {
      "text/plain": [
       "('arabic',\n",
       " 'danish',\n",
       " 'dutch',\n",
       " 'english',\n",
       " 'finnish',\n",
       " 'french',\n",
       " 'german',\n",
       " 'hungarian',\n",
       " 'italian',\n",
       " 'norwegian',\n",
       " 'porter',\n",
       " 'portuguese',\n",
       " 'romanian',\n",
       " 'russian',\n",
       " 'spanish',\n",
       " 'swedish')"
      ]
     },
     "execution_count": 2,
     "metadata": {},
     "output_type": "execute_result"
    }
   ],
   "source": [
    "SnowballStemmer.languages"
   ]
  },
  {
   "cell_type": "markdown",
   "metadata": {},
   "source": [
    "# Read  Files"
   ]
  },
  {
   "cell_type": "markdown",
   "metadata": {},
   "source": [
    "## Functions"
   ]
  },
  {
   "cell_type": "code",
   "execution_count": 3,
   "metadata": {},
   "outputs": [],
   "source": [
    "def extract_informations(filename:str)->dict:\n",
    "\n",
    "    data = {}\n",
    "    id_actual = None\n",
    "    information = \"\"\n",
    "\n",
    "    try:\n",
    "        with open(filename, \"r\", encoding='ansi') as file:\n",
    "            for line in file:\n",
    "                if line.startswith(\"RN\"): #  ID\n",
    "                    # if haven an information before, save in a dictionary \n",
    "                    if id_actual and information:\n",
    "                        data[id_actual] = information\n",
    "                        information = \"\"\n",
    "                    # get id next second word \n",
    "                    id_actual = line.split()[1]\n",
    "                elif line.startswith((\"TI\", \"MJ\", \"MN\", \"AB\", \"EX\")) and id_actual:\n",
    "                    information += line[3:].strip()\n",
    "                    while True:\n",
    "                        next_line = file.readline()\n",
    "                        if not next_line or re.match(r'\\b[A-Z]{2}\\s', next_line):\n",
    "                            break\n",
    "                        information += \" \" + next_line.strip()\n",
    "            # add last information at dictionary\n",
    "            if id_actual and information:\n",
    "                data[id_actual] = information\n",
    "    except FileNotFoundError:\n",
    "        print(\"File not founded.\")\n",
    "\n",
    "    return data\n",
    "\n",
    "def read_file_query(file_path:str)->dict:\n",
    " \n",
    "    data = {'QN': [], 'QU': [], 'NR': [], 'RD': []}\n",
    "\n",
    "    qn_id = None\n",
    "    qu_text = None\n",
    "    nr_number = None\n",
    "    rd_list = []\n",
    "\n",
    "    with open(file_path, 'r') as file:\n",
    "        for line in file:\n",
    "            if line.startswith('RD'):\n",
    "                rd_list = [int(x) for x in re.findall(r'\\d+', line)]\n",
    "                while True:\n",
    "                    try:\n",
    "                        next_line = next(file)\n",
    "                        if next_line.startswith('QN'):\n",
    "                            # Save acumulated\n",
    "                            if qn_id is not None:\n",
    "                                data['QN'].append(qn_id)\n",
    "                                data['QU'].append(qu_text)\n",
    "                                data['NR'].append(nr_number)\n",
    "                                data['RD'].append(rd_list)\n",
    "\n",
    "                            # Restart variables to next \"QN\"\n",
    "                            qn_id = int(re.search(r'\\d+', next_line).group())\n",
    "                            qu_text = None\n",
    "                            nr_number = None\n",
    "                            rd_list = []\n",
    "                            break\n",
    "                        rd_list.extend([int(x) for x in re.findall(r'\\d+', next_line)])\n",
    "                    except StopIteration:\n",
    "                        break\n",
    "            elif line.startswith('QN'):\n",
    "                qn_id = int(re.search(r'\\d+', line).group())\n",
    "            elif line.startswith('QU'):\n",
    "                qu_text = line[3:].strip()\n",
    "            elif line.startswith('NR'):\n",
    "                nr_number = int(re.search(r'\\d+', line).group())\n",
    "\n",
    "    \n",
    "    if qn_id is not None:\n",
    "        data['QN'].append(qn_id)\n",
    "        data['QU'].append(qu_text)\n",
    "        data['NR'].append(nr_number)\n",
    "        data['RD'].append(rd_list)\n",
    "\n",
    "    df = pd.DataFrame(data)\n",
    "    df[\"RD\"] = df[\"RD\"].apply(lambda x: x[::2])\n",
    "    df[\"len(RD)\"] = df[\"RD\"].apply(lambda x: len(x))\n",
    "    \n",
    "    return df"
   ]
  },
  {
   "cell_type": "code",
   "execution_count": 4,
   "metadata": {},
   "outputs": [],
   "source": [
    "fn_files = ['cf74', 'cf75', 'cf76', 'cf77', 'cf78', 'cf79']\n",
    "fn_queries = 'cfquery'"
   ]
  },
  {
   "cell_type": "markdown",
   "metadata": {},
   "source": [
    "## Document"
   ]
  },
  {
   "cell_type": "code",
   "execution_count": 5,
   "metadata": {},
   "outputs": [
    {
     "data": {
      "text/html": [
       "<div>\n",
       "<style scoped>\n",
       "    .dataframe tbody tr th:only-of-type {\n",
       "        vertical-align: middle;\n",
       "    }\n",
       "\n",
       "    .dataframe tbody tr th {\n",
       "        vertical-align: top;\n",
       "    }\n",
       "\n",
       "    .dataframe thead th {\n",
       "        text-align: right;\n",
       "    }\n",
       "</style>\n",
       "<table border=\"1\" class=\"dataframe\">\n",
       "  <thead>\n",
       "    <tr style=\"text-align: right;\">\n",
       "      <th></th>\n",
       "      <th>id_document</th>\n",
       "      <th>TEXT</th>\n",
       "    </tr>\n",
       "  </thead>\n",
       "  <tbody>\n",
       "    <tr>\n",
       "      <th>0</th>\n",
       "      <td>1</td>\n",
       "      <td>Pseudomonas aeruginosa infection in cystic fib...</td>\n",
       "    </tr>\n",
       "    <tr>\n",
       "      <th>1</th>\n",
       "      <td>2</td>\n",
       "      <td>Amylase content of mixed saliva in children.SA...</td>\n",
       "    </tr>\n",
       "    <tr>\n",
       "      <th>2</th>\n",
       "      <td>3</td>\n",
       "      <td>A clinical study of the diagnosis of cystic fi...</td>\n",
       "    </tr>\n",
       "    <tr>\n",
       "      <th>3</th>\n",
       "      <td>4</td>\n",
       "      <td>A methodological study of the diagnosis of cys...</td>\n",
       "    </tr>\n",
       "    <tr>\n",
       "      <th>4</th>\n",
       "      <td>5</td>\n",
       "      <td>Proteolytic activity in duodenal juice in infa...</td>\n",
       "    </tr>\n",
       "  </tbody>\n",
       "</table>\n",
       "</div>"
      ],
      "text/plain": [
       "   id_document                                               TEXT\n",
       "0            1  Pseudomonas aeruginosa infection in cystic fib...\n",
       "1            2  Amylase content of mixed saliva in children.SA...\n",
       "2            3  A clinical study of the diagnosis of cystic fi...\n",
       "3            4  A methodological study of the diagnosis of cys...\n",
       "4            5  Proteolytic activity in duodenal juice in infa..."
      ]
     },
     "execution_count": 5,
     "metadata": {},
     "output_type": "execute_result"
    }
   ],
   "source": [
    "data_complete = {}\n",
    "\n",
    "for fn in fn_files:\n",
    "    path_file = f\"../data/{fn}\"\n",
    "    data = extract_informations(path_file)\n",
    "\n",
    "    data_complete.update(data)\n",
    "\n",
    "df_data = pd.DataFrame(list(data_complete.items()), columns=['id', 'TEXT']).rename(columns={'id':'id_document'})\n",
    "df_data = df_data.astype({'id_document': int})\n",
    "df_data.head()"
   ]
  },
  {
   "cell_type": "markdown",
   "metadata": {},
   "source": [
    "## Query"
   ]
  },
  {
   "cell_type": "code",
   "execution_count": 6,
   "metadata": {},
   "outputs": [
    {
     "data": {
      "text/html": [
       "<div>\n",
       "<style scoped>\n",
       "    .dataframe tbody tr th:only-of-type {\n",
       "        vertical-align: middle;\n",
       "    }\n",
       "\n",
       "    .dataframe tbody tr th {\n",
       "        vertical-align: top;\n",
       "    }\n",
       "\n",
       "    .dataframe thead th {\n",
       "        text-align: right;\n",
       "    }\n",
       "</style>\n",
       "<table border=\"1\" class=\"dataframe\">\n",
       "  <thead>\n",
       "    <tr style=\"text-align: right;\">\n",
       "      <th></th>\n",
       "      <th>id_query</th>\n",
       "      <th>QU</th>\n",
       "      <th>NR</th>\n",
       "      <th>RD</th>\n",
       "      <th>len(RD)</th>\n",
       "    </tr>\n",
       "  </thead>\n",
       "  <tbody>\n",
       "    <tr>\n",
       "      <th>0</th>\n",
       "      <td>1</td>\n",
       "      <td>What are the effects of calcium on the physica...</td>\n",
       "      <td>34</td>\n",
       "      <td>[139, 151, 166, 311, 370, 392, 439, 440, 441, ...</td>\n",
       "      <td>34</td>\n",
       "    </tr>\n",
       "    <tr>\n",
       "      <th>1</th>\n",
       "      <td>2</td>\n",
       "      <td>Can one distinguish between the effects of muc...</td>\n",
       "      <td>7</td>\n",
       "      <td>[169, 434, 454, 498, 499, 592, 875]</td>\n",
       "      <td>7</td>\n",
       "    </tr>\n",
       "    <tr>\n",
       "      <th>2</th>\n",
       "      <td>3</td>\n",
       "      <td>How are salivary glycoproteins from CF patient...</td>\n",
       "      <td>43</td>\n",
       "      <td>[23, 40, 139, 190, 221, 246, 309, 311, 325, 34...</td>\n",
       "      <td>43</td>\n",
       "    </tr>\n",
       "    <tr>\n",
       "      <th>3</th>\n",
       "      <td>4</td>\n",
       "      <td>What is the lipid composition of CF respirator...</td>\n",
       "      <td>9</td>\n",
       "      <td>[503, 538, 539, 540, 553, 604, 669, 711, 876]</td>\n",
       "      <td>9</td>\n",
       "    </tr>\n",
       "    <tr>\n",
       "      <th>4</th>\n",
       "      <td>5</td>\n",
       "      <td>Is CF mucus abnormal?</td>\n",
       "      <td>131</td>\n",
       "      <td>[23, 47, 50, 60, 114, 132, 135, 139, 151, 169,...</td>\n",
       "      <td>131</td>\n",
       "    </tr>\n",
       "  </tbody>\n",
       "</table>\n",
       "</div>"
      ],
      "text/plain": [
       "   id_query                                                 QU   NR  \\\n",
       "0         1  What are the effects of calcium on the physica...   34   \n",
       "1         2  Can one distinguish between the effects of muc...    7   \n",
       "2         3  How are salivary glycoproteins from CF patient...   43   \n",
       "3         4  What is the lipid composition of CF respirator...    9   \n",
       "4         5                              Is CF mucus abnormal?  131   \n",
       "\n",
       "                                                  RD  len(RD)  \n",
       "0  [139, 151, 166, 311, 370, 392, 439, 440, 441, ...       34  \n",
       "1                [169, 434, 454, 498, 499, 592, 875]        7  \n",
       "2  [23, 40, 139, 190, 221, 246, 309, 311, 325, 34...       43  \n",
       "3      [503, 538, 539, 540, 553, 604, 669, 711, 876]        9  \n",
       "4  [23, 47, 50, 60, 114, 132, 135, 139, 151, 169,...      131  "
      ]
     },
     "execution_count": 6,
     "metadata": {},
     "output_type": "execute_result"
    }
   ],
   "source": [
    "# Lê o arquivo e cria o DataFrame\n",
    "df_query = read_file_query(f'../data/{fn_queries}')\n",
    "df_query = df_query.rename(columns={'QN':'id_query'}).astype({'id_query': int})\n",
    "df_query.head()"
   ]
  },
  {
   "cell_type": "code",
   "execution_count": 7,
   "metadata": {},
   "outputs": [],
   "source": [
    "assert len(df_query[df_query['NR'] != df_query['len(RD)']]) == 0, \"There is a problem to load data.\"\n",
    "df_query = df_query.drop(columns='len(RD)')"
   ]
  },
  {
   "cell_type": "markdown",
   "metadata": {},
   "source": [
    "# Text preprocessing"
   ]
  },
  {
   "cell_type": "markdown",
   "metadata": {},
   "source": [
    "## Functions"
   ]
  },
  {
   "cell_type": "code",
   "execution_count": 8,
   "metadata": {},
   "outputs": [],
   "source": [
    "def lemmatize_text_spacy(text:str)->str:\n",
    "    doc = nlp(text)\n",
    "    return ' '.join([token.lemma_ for token in doc])\n",
    "\n",
    "def stem_text(text:str)->str:\n",
    "    stemmer = PorterStemmer()\n",
    "    return ' '.join([stemmer.stem(word) for word in word_tokenize(text)])\n",
    "\n",
    "def remove_stopwords_from_text(text:str)->str:\n",
    "    stop_words = set(stopwords.words('english'))\n",
    "    words = word_tokenize(text)\n",
    "    filtered_words = [word for word in words if word.lower() not in stop_words]\n",
    "    return ' '.join(filtered_words)\n",
    "\n",
    "def remove_punctuation_nltk(text:str)->str:\n",
    "    text = re.sub(r'[^a-zA-Z0-9\\s]', '', text)\n",
    "    tokens = word_tokenize(text)\n",
    "    tokens_without_punctuation = [word for word in tokens if word not in string.punctuation]\n",
    "    \n",
    "    return ' '.join(tokens_without_punctuation)\n",
    "\n",
    "def remove_number(text:str)->str:\n",
    "    return ' '.join(re.sub(r'\\w*\\d\\w*', '', word) for word in word_tokenize(text))\n",
    "\n",
    "def preprocess_english_text(text:str, conf:dict, n_exemple:int):\n",
    "    \n",
    "    pp_stats = {}\n",
    "\n",
    "    if conf['convert'] == 'lower':\n",
    "        print(f\"Before lower ex.: {text[n_exemple].split('.')[0]}\")\n",
    "        text = text.str.lower()\n",
    "        pp_count_words = list(map(lambda string: len(string.split()), text))\n",
    "        pp_stats['lower'] = pp_count_words\n",
    "        print(f\"-> After lower ex.:  {text[n_exemple].split('.')[0]}\")\n",
    "\n",
    "    if conf['convert'] == 'upper':\n",
    "        print(f\"Before upper ex.: {text[n_exemple].split('.')[0]}\")\n",
    "        text = text.str.upper()\n",
    "        pp_count_words = list(map(lambda string: len(string.split()), text))\n",
    "        pp_stats['upper'] = pp_count_words\n",
    "        print(f\"-> After upper ex.:  {text[n_exemple].split('.')[0]}\")\n",
    "\n",
    "    if conf['reduce'] == 'lemming':\n",
    "        print(f\"Before lemmatizer ex.: {text[n_exemple].split('.')[0]}\")\n",
    "        processed = text.apply(lemmatize_text_spacy)\n",
    "        pp_count_words = list(map(lambda string: len(string.split()), text))\n",
    "        pp_stats['reduce'] = pp_count_words\n",
    "        print(f\"-> After lemmatizer ex.: {processed[n_exemple].split('.')[0]}\")\n",
    "\n",
    "    if conf['reduce'] == 'steamming':\n",
    "        print(f\"Before stemming ex.: {text.iloc[n_exemple].split('.')[0]}\")\n",
    "        processed = text.apply(stem_text)\n",
    "        pp_count_words = processed.apply(lambda x: len(x.split()))\n",
    "        pp_stats['reduce'] = pp_count_words\n",
    "        print(f\"-> After stemming ex.: {processed.iloc[n_exemple].split('.')[0]}\")\n",
    "\n",
    "    if conf['stop_words'] == True:        \n",
    "        print(f\"Before stopword ex.: {processed[n_exemple].split('.')[0]}\")\n",
    "        processed = processed.apply(remove_stopwords_from_text)\n",
    "        pp_count_words = processed.apply(lambda x: len(x.split()))\n",
    "        pp_stats['stop_words'] = pp_count_words\n",
    "        print(f\"-> After stopword ex.: {processed.iloc[n_exemple].split('.')[0]}\")\n",
    "\n",
    "    if conf['punctuation'] == True:\n",
    "        print(f\"Before remove punctuation ex.:  {processed[n_exemple].split('.')[0]}\")\n",
    "        processed = processed.apply(remove_punctuation_nltk)\n",
    "        pp_count_words = processed.apply(lambda x: len(x.split()))\n",
    "        pp_stats['punctuation'] = pp_count_words\n",
    "        print(f\"-> After remove ponctuation ex.: {processed.iloc[n_exemple].split('.')[0]}\")\n",
    "    \n",
    "    if conf['number'] == True:\n",
    "\n",
    "        print(f\"Before remove numbers ex.:  {processed[n_exemple].split('.')[0]}\")\n",
    "        processed = [remove_number(text) for text in processed]\n",
    "        pp_count_words = [len(text.split()) for text in processed]\n",
    "        pp_stats['number'] = pp_count_words\n",
    "        print(f\"-> After remove numbers ex.: {processed[n_exemple].split('.')[0]}\")\n",
    "\n",
    "    return processed, pp_stats\n",
    "\n",
    "def contabilize_stats(data:pd.DataFrame, stats:pd.DataFrame)->pd.DataFrame:\n",
    "\n",
    "    data['lower_len'] = stats['lower']\n",
    "    data['reduce_len'] = stats['reduce']\n",
    "    data['stop_len'] = stats['stop_words']\n",
    "    data['punc_len'] = stats['punctuation']\n",
    "    data['num_len'] = stats['number']\n",
    "\n",
    "    return data\n",
    "\n",
    "def get_vocabulary(data_text, query_text):\n",
    "    \n",
    "    data_complete = data_text.to_list()\n",
    "    data_complete.extend(query_text.to_list())\n",
    "\n",
    "    words = []\n",
    "\n",
    "    for phrase in data_complete:\n",
    "        for word in phrase.split():\n",
    "            words.append(word)\n",
    "\n",
    "    return set(words)\n",
    "\n",
    "def get_synonyms(word:str)->list:\n",
    "    synonyms = set()\n",
    "    for syn in wordnet.synsets(word):\n",
    "        for lemma in syn.lemmas():\n",
    "            synonyms.add(lemma.name())\n",
    "    return list(synonyms)\n",
    "\n",
    "def choose_reference_synonym(synonyms):\n",
    "    return random.choice(synonyms) if synonyms else None\n",
    "\n",
    "def replace_synonyms_in_text(text, synonyms_dict):\n",
    "\n",
    "    if isinstance(text, str):\n",
    "        words = text.split()\n",
    "        replaced_words = [synonyms_dict.get(word, word) for word in words]\n",
    "        return ' '.join(replaced_words)\n",
    "    else:\n",
    "        return text\n",
    "\n",
    "def reduce_vocabulary(data, query, col_text):\n",
    " \n",
    "    vocabulary = get_vocabulary(data[col_text], query[col_text])\n",
    "    print(\"Len vocabulary initial:\", len(vocabulary))\n",
    "    \n",
    "    synonyms_uniques = {}  \n",
    "\n",
    "    for word in vocabulary:\n",
    "        synonyms = get_synonyms(word)\n",
    "        word_reference = choose_reference_synonym(synonyms)\n",
    "        if word_reference:\n",
    "            for synonym in synonyms:\n",
    "                synonyms_uniques[synonym] = word_reference\n",
    "\n",
    "    print(f\"Before synonyms ex.: {data.loc[0, col_text]}\")\n",
    "\n",
    "    r_data = data.copy()\n",
    "    r_query = query.copy()\n",
    "    r_data['syn_pp'] = data[col_text].apply(lambda text: replace_synonyms_in_text(text, synonyms_uniques))\n",
    "    r_query['syn_pp'] = query[col_text].apply(lambda text: replace_synonyms_in_text(text, synonyms_uniques))\n",
    "\n",
    "    print(f\"After synonyms ex.: {data.loc[0, col_text]}\")\n",
    "    vocabulary = get_vocabulary(r_data['syn_pp'], r_query['syn_pp'])\n",
    "    print(\"Len vocabulary final:\", len(vocabulary))\n",
    "   \n",
    "    return r_data, r_query"
   ]
  },
  {
   "cell_type": "code",
   "execution_count": 9,
   "metadata": {},
   "outputs": [
    {
     "name": "stdout",
     "output_type": "stream",
     "text": [
      "--------------------------------------------------Data: Document--------------------------------------------------\n",
      "Before lower ex.: Pseudomonas aeruginosa infection in cystic fibrosis\n",
      "-> After lower ex.:  pseudomonas aeruginosa infection in cystic fibrosis\n",
      "Before lemmatizer ex.: pseudomonas aeruginosa infection in cystic fibrosis\n",
      "-> After lemmatizer ex.: pseudomonas aeruginosa infection in cystic fibrosis \n",
      "Before stopword ex.: pseudomonas aeruginosa infection in cystic fibrosis \n",
      "-> After stopword ex.: pseudomonas aeruginosa infection cystic fibrosis \n",
      "Before remove punctuation ex.:  pseudomonas aeruginosa infection cystic fibrosis \n",
      "-> After remove ponctuation ex.: pseudomonas aeruginosa infection cystic fibrosis occurrence precipitate antibody pseudomonas aeruginosa relation concentration sixteen serum protein clinical radiographical status lungscystic fibrosis co pseudomonas aeruginosa m pseudomona infection co respiratory tract infection cothe significance pseudomonas aeruginosa infection respiratory tract 9 cystic fibrosis patient study mean immunoelectrophoretical analysis patient sera number precipitin pseudomonas aeruginosa concentration 16 serum protein addition clinical radiographical status lung evaluate use 2 scoring system precipitin pseudomonas aeruginosa demonstrate sera maximum number one serum 22 concentration 12 serum protein significantly change compare match control person notably igg iga elevate acute phase protein change latter suggest active tissue damage concentration 3 acute phase protein notably haptoglobin correlate number precipitin suggest respiratory tract infection patient many precipitin accompany tissue damage infection patient precipitin result indicate protective value many precipitin tissue respiratory tract\n",
      "Before remove numbers ex.:  pseudomonas aeruginosa infection cystic fibrosis occurrence precipitate antibody pseudomonas aeruginosa relation concentration sixteen serum protein clinical radiographical status lungscystic fibrosis co pseudomonas aeruginosa m pseudomona infection co respiratory tract infection cothe significance pseudomonas aeruginosa infection respiratory tract 9 cystic fibrosis patient study mean immunoelectrophoretical analysis patient sera number precipitin pseudomonas aeruginosa concentration 16 serum protein addition clinical radiographical status lung evaluate use 2 scoring system precipitin pseudomonas aeruginosa demonstrate sera maximum number one serum 22 concentration 12 serum protein significantly change compare match control person notably igg iga elevate acute phase protein change latter suggest active tissue damage concentration 3 acute phase protein notably haptoglobin correlate number precipitin suggest respiratory tract infection patient many precipitin accompany tissue damage infection patient precipitin result indicate protective value many precipitin tissue respiratory tract\n",
      "-> After remove numbers ex.: pseudomonas aeruginosa infection cystic fibrosis occurrence precipitate antibody pseudomonas aeruginosa relation concentration sixteen serum protein clinical radiographical status lungscystic fibrosis co pseudomonas aeruginosa m pseudomona infection co respiratory tract infection cothe significance pseudomonas aeruginosa infection respiratory tract  cystic fibrosis patient study mean immunoelectrophoretical analysis patient sera number precipitin pseudomonas aeruginosa concentration  serum protein addition clinical radiographical status lung evaluate use  scoring system precipitin pseudomonas aeruginosa demonstrate sera maximum number one serum  concentration  serum protein significantly change compare match control person notably igg iga elevate acute phase protein change latter suggest active tissue damage concentration  acute phase protein notably haptoglobin correlate number precipitin suggest respiratory tract infection patient many precipitin accompany tissue damage infection patient precipitin result indicate protective value many precipitin tissue respiratory tract\n",
      "--------------------------------------------------Data: Queries--------------------------------------------------\n",
      "Before lower ex.: What are the effects of calcium on the physical properties of mucus\n",
      "-> After lower ex.:  what are the effects of calcium on the physical properties of mucus\n",
      "Before lemmatizer ex.: what are the effects of calcium on the physical properties of mucus\n",
      "-> After lemmatizer ex.: what be the effect of calcium on the physical property of mucus\n",
      "Before stopword ex.: what be the effect of calcium on the physical property of mucus\n",
      "-> After stopword ex.: effect calcium physical property mucus\n",
      "Before remove punctuation ex.:  effect calcium physical property mucus\n",
      "-> After remove ponctuation ex.: effect calcium physical property mucus\n",
      "Before remove numbers ex.:  effect calcium physical property mucus\n",
      "-> After remove numbers ex.: effect calcium physical property mucus\n"
     ]
    }
   ],
   "source": [
    "pp_config = { 'convert': 'lower', # lower or upper \n",
    "              'reduce': 'lemming', # stemming or lemming  lemming\n",
    "              'stop_words': True,  # remove if true else ~remove\n",
    "              'punctuation':True, # remove if true, else ~remove\n",
    "              'number': True,\n",
    "             }\n",
    "\n",
    "print(f\"{'-'*50}Data: Document{'-'*50}\")\n",
    "df_data_pp = df_data.copy()\n",
    "df_data_pp['pp'], pp_count_d= preprocess_english_text(df_data['TEXT'], pp_config, n_exemple=0)\n",
    "\n",
    "print(f\"{'-'*50}Data: Queries{'-'*50}\")\n",
    "df_query_pp = df_query.copy()\n",
    "df_query_pp['pp'], pp_count_q= preprocess_english_text(df_query['QU'], pp_config, n_exemple=0)"
   ]
  },
  {
   "cell_type": "code",
   "execution_count": 10,
   "metadata": {},
   "outputs": [],
   "source": [
    "df_data_pp = contabilize_stats(df_data_pp, pp_count_d)\n",
    "df_query_pp = contabilize_stats(df_query_pp, pp_count_q)"
   ]
  },
  {
   "cell_type": "code",
   "execution_count": 11,
   "metadata": {},
   "outputs": [
    {
     "name": "stdout",
     "output_type": "stream",
     "text": [
      "Len vocabulary initial: 9308\n",
      "Before synonyms ex.: pseudomonas aeruginosa infection cystic fibrosis occurrence precipitate antibody pseudomonas aeruginosa relation concentration sixteen serum protein clinical radiographical status lungscystic fibrosis co pseudomonas aeruginosa m pseudomona infection co respiratory tract infection cothe significance pseudomonas aeruginosa infection respiratory tract  cystic fibrosis patient study mean immunoelectrophoretical analysis patient sera number precipitin pseudomonas aeruginosa concentration  serum protein addition clinical radiographical status lung evaluate use  scoring system precipitin pseudomonas aeruginosa demonstrate sera maximum number one serum  concentration  serum protein significantly change compare match control person notably igg iga elevate acute phase protein change latter suggest active tissue damage concentration  acute phase protein notably haptoglobin correlate number precipitin suggest respiratory tract infection patient many precipitin accompany tissue damage infection patient precipitin result indicate protective value many precipitin tissue respiratory tract\n",
      "After synonyms ex.: pseudomonas aeruginosa infection cystic fibrosis occurrence precipitate antibody pseudomonas aeruginosa relation concentration sixteen serum protein clinical radiographical status lungscystic fibrosis co pseudomonas aeruginosa m pseudomona infection co respiratory tract infection cothe significance pseudomonas aeruginosa infection respiratory tract  cystic fibrosis patient study mean immunoelectrophoretical analysis patient sera number precipitin pseudomonas aeruginosa concentration  serum protein addition clinical radiographical status lung evaluate use  scoring system precipitin pseudomonas aeruginosa demonstrate sera maximum number one serum  concentration  serum protein significantly change compare match control person notably igg iga elevate acute phase protein change latter suggest active tissue damage concentration  acute phase protein notably haptoglobin correlate number precipitin suggest respiratory tract infection patient many precipitin accompany tissue damage infection patient precipitin result indicate protective value many precipitin tissue respiratory tract\n",
      "Len vocabulary final: 7572\n"
     ]
    },
    {
     "data": {
      "text/html": [
       "<div>\n",
       "<style scoped>\n",
       "    .dataframe tbody tr th:only-of-type {\n",
       "        vertical-align: middle;\n",
       "    }\n",
       "\n",
       "    .dataframe tbody tr th {\n",
       "        vertical-align: top;\n",
       "    }\n",
       "\n",
       "    .dataframe thead th {\n",
       "        text-align: right;\n",
       "    }\n",
       "</style>\n",
       "<table border=\"1\" class=\"dataframe\">\n",
       "  <thead>\n",
       "    <tr style=\"text-align: right;\">\n",
       "      <th></th>\n",
       "      <th>id_document</th>\n",
       "      <th>TEXT</th>\n",
       "      <th>pp</th>\n",
       "      <th>lower_len</th>\n",
       "      <th>reduce_len</th>\n",
       "      <th>stop_len</th>\n",
       "      <th>punc_len</th>\n",
       "      <th>num_len</th>\n",
       "      <th>syn_pp</th>\n",
       "      <th>syn_len</th>\n",
       "    </tr>\n",
       "  </thead>\n",
       "  <tbody>\n",
       "    <tr>\n",
       "      <th>0</th>\n",
       "      <td>1</td>\n",
       "      <td>Pseudomonas aeruginosa infection in cystic fib...</td>\n",
       "      <td>pseudomonas aeruginosa infection cystic fibros...</td>\n",
       "      <td>207</td>\n",
       "      <td>207</td>\n",
       "      <td>155</td>\n",
       "      <td>130</td>\n",
       "      <td>124</td>\n",
       "      <td>pseudomonas aeruginosa infection cystic fibros...</td>\n",
       "      <td>124</td>\n",
       "    </tr>\n",
       "    <tr>\n",
       "      <th>1</th>\n",
       "      <td>2</td>\n",
       "      <td>Amylase content of mixed saliva in children.SA...</td>\n",
       "      <td>amylase content mixed saliva childrensaliva en...</td>\n",
       "      <td>152</td>\n",
       "      <td>152</td>\n",
       "      <td>120</td>\n",
       "      <td>103</td>\n",
       "      <td>98</td>\n",
       "      <td>amylase content ruffle saliva childrensaliva e...</td>\n",
       "      <td>98</td>\n",
       "    </tr>\n",
       "    <tr>\n",
       "      <th>2</th>\n",
       "      <td>3</td>\n",
       "      <td>A clinical study of the diagnosis of cystic fi...</td>\n",
       "      <td>clinical study diagnosis cystic fibrosis instr...</td>\n",
       "      <td>157</td>\n",
       "      <td>157</td>\n",
       "      <td>115</td>\n",
       "      <td>94</td>\n",
       "      <td>90</td>\n",
       "      <td>clinical involve diagnosis cystic fibrosis imp...</td>\n",
       "      <td>90</td>\n",
       "    </tr>\n",
       "    <tr>\n",
       "      <th>3</th>\n",
       "      <td>4</td>\n",
       "      <td>A methodological study of the diagnosis of cys...</td>\n",
       "      <td>methodological study diagnosis cystic fibrosis...</td>\n",
       "      <td>203</td>\n",
       "      <td>203</td>\n",
       "      <td>136</td>\n",
       "      <td>111</td>\n",
       "      <td>111</td>\n",
       "      <td>methodological involve diagnosis cystic fibros...</td>\n",
       "      <td>111</td>\n",
       "    </tr>\n",
       "    <tr>\n",
       "      <th>4</th>\n",
       "      <td>5</td>\n",
       "      <td>Proteolytic activity in duodenal juice in infa...</td>\n",
       "      <td>proteolytic activity duodenal juice infant chi...</td>\n",
       "      <td>129</td>\n",
       "      <td>129</td>\n",
       "      <td>124</td>\n",
       "      <td>92</td>\n",
       "      <td>85</td>\n",
       "      <td>proteolytic activeness duodenal juice baby Chr...</td>\n",
       "      <td>85</td>\n",
       "    </tr>\n",
       "  </tbody>\n",
       "</table>\n",
       "</div>"
      ],
      "text/plain": [
       "   id_document                                               TEXT  \\\n",
       "0            1  Pseudomonas aeruginosa infection in cystic fib...   \n",
       "1            2  Amylase content of mixed saliva in children.SA...   \n",
       "2            3  A clinical study of the diagnosis of cystic fi...   \n",
       "3            4  A methodological study of the diagnosis of cys...   \n",
       "4            5  Proteolytic activity in duodenal juice in infa...   \n",
       "\n",
       "                                                  pp  lower_len  reduce_len  \\\n",
       "0  pseudomonas aeruginosa infection cystic fibros...        207         207   \n",
       "1  amylase content mixed saliva childrensaliva en...        152         152   \n",
       "2  clinical study diagnosis cystic fibrosis instr...        157         157   \n",
       "3  methodological study diagnosis cystic fibrosis...        203         203   \n",
       "4  proteolytic activity duodenal juice infant chi...        129         129   \n",
       "\n",
       "   stop_len  punc_len  num_len  \\\n",
       "0       155       130      124   \n",
       "1       120       103       98   \n",
       "2       115        94       90   \n",
       "3       136       111      111   \n",
       "4       124        92       85   \n",
       "\n",
       "                                              syn_pp  syn_len  \n",
       "0  pseudomonas aeruginosa infection cystic fibros...      124  \n",
       "1  amylase content ruffle saliva childrensaliva e...       98  \n",
       "2  clinical involve diagnosis cystic fibrosis imp...       90  \n",
       "3  methodological involve diagnosis cystic fibros...      111  \n",
       "4  proteolytic activeness duodenal juice baby Chr...       85  "
      ]
     },
     "execution_count": 11,
     "metadata": {},
     "output_type": "execute_result"
    }
   ],
   "source": [
    "# if its necessary to reduce the data\n",
    "df_data_pp, df_query_pp = reduce_vocabulary(df_data_pp, df_query_pp, 'pp')\n",
    "\n",
    "df_data_pp['syn_len'] = df_data_pp['syn_pp'].apply(lambda x: len(x.split()))\n",
    "df_query_pp['syn_len'] = df_query_pp['syn_pp'].apply(lambda x: len(x.split()))\n",
    "\n",
    "df_data_pp.head()"
   ]
  },
  {
   "cell_type": "markdown",
   "metadata": {},
   "source": [
    "# Vectorizing"
   ]
  },
  {
   "cell_type": "markdown",
   "metadata": {},
   "source": [
    "## Functions"
   ]
  },
  {
   "cell_type": "code",
   "execution_count": 12,
   "metadata": {},
   "outputs": [],
   "source": [
    "def tf_idf_technicals(data_documents:pd.DataFrame, data_queries:pd.DataFrame, type:str):\n",
    "\n",
    "    initial_time = time.time()\n",
    "    \n",
    "    if type == 'tf':\n",
    "        vectorizer = TfidfVectorizer(use_idf=False, norm='l1') \n",
    "    elif type == 'idf':\n",
    "        vectorizer = TfidfVectorizer(use_idf=True, smooth_idf=False, norm='l2')  \n",
    "    elif type == 'tf-idf':\n",
    "        vectorizer = TfidfVectorizer()\n",
    "\n",
    "    document_matrix = vectorizer.fit_transform(data_documents)\n",
    "    query_vector = vectorizer.transform(data_queries)\n",
    "\n",
    "    words = vectorizer.get_feature_names_out()\n",
    "\n",
    "    vector_documents = pd.DataFrame(data=document_matrix.toarray(), columns=words)\n",
    "    vector_queries = pd.DataFrame(data=query_vector.toarray(), columns=words)\n",
    "\n",
    "    print(f\"Execution time: {time.time() - initial_time}s\\nSize:{len(words)}\")\n",
    "    return vector_documents, vector_queries\n",
    "\n",
    "def get_embeddings(model_name:str, data):\n",
    "    \n",
    "    initial_time = time.time()\n",
    "\n",
    "    model = SentenceTransformer(model_name)\n",
    "    sentence_embeddings = model.encode(data)\n",
    "\n",
    "    print(f\"Execution time: {time.time() - initial_time}s\\nSize:{len(sentence_embeddings)}\")\n",
    "    return sentence_embeddings"
   ]
  },
  {
   "cell_type": "markdown",
   "metadata": {},
   "source": [
    "TF-IDF"
   ]
  },
  {
   "cell_type": "code",
   "execution_count": 13,
   "metadata": {},
   "outputs": [
    {
     "name": "stdout",
     "output_type": "stream",
     "text": [
      "Execution time: 0.15488767623901367s\n",
      "Size:9283\n"
     ]
    },
    {
     "data": {
      "text/html": [
       "<div>\n",
       "<style scoped>\n",
       "    .dataframe tbody tr th:only-of-type {\n",
       "        vertical-align: middle;\n",
       "    }\n",
       "\n",
       "    .dataframe tbody tr th {\n",
       "        vertical-align: top;\n",
       "    }\n",
       "\n",
       "    .dataframe thead th {\n",
       "        text-align: right;\n",
       "    }\n",
       "</style>\n",
       "<table border=\"1\" class=\"dataframe\">\n",
       "  <thead>\n",
       "    <tr style=\"text-align: right;\">\n",
       "      <th></th>\n",
       "      <th>aa</th>\n",
       "      <th>aathe</th>\n",
       "      <th>aathis</th>\n",
       "      <th>ab</th>\n",
       "      <th>abalthough</th>\n",
       "      <th>aban</th>\n",
       "      <th>abandon</th>\n",
       "      <th>abdoman</th>\n",
       "      <th>abdomen</th>\n",
       "      <th>abdominal</th>\n",
       "      <th>...</th>\n",
       "      <th>zealand</th>\n",
       "      <th>zellweger</th>\n",
       "      <th>zero</th>\n",
       "      <th>zeta</th>\n",
       "      <th>zinc</th>\n",
       "      <th>zona</th>\n",
       "      <th>zone</th>\n",
       "      <th>zymogen</th>\n",
       "      <th>zymogram</th>\n",
       "      <th>zz</th>\n",
       "    </tr>\n",
       "  </thead>\n",
       "  <tbody>\n",
       "    <tr>\n",
       "      <th>0</th>\n",
       "      <td>0.0000</td>\n",
       "      <td>0.0000</td>\n",
       "      <td>0.0000</td>\n",
       "      <td>0.0000</td>\n",
       "      <td>0.0000</td>\n",
       "      <td>0.0000</td>\n",
       "      <td>0.0000</td>\n",
       "      <td>0.0000</td>\n",
       "      <td>0.0000</td>\n",
       "      <td>0.0000</td>\n",
       "      <td>...</td>\n",
       "      <td>0.0000</td>\n",
       "      <td>0.0000</td>\n",
       "      <td>0.0000</td>\n",
       "      <td>0.0000</td>\n",
       "      <td>0.0000</td>\n",
       "      <td>0.0000</td>\n",
       "      <td>0.0000</td>\n",
       "      <td>0.0000</td>\n",
       "      <td>0.0000</td>\n",
       "      <td>0.0000</td>\n",
       "    </tr>\n",
       "    <tr>\n",
       "      <th>1</th>\n",
       "      <td>0.0000</td>\n",
       "      <td>0.0000</td>\n",
       "      <td>0.0000</td>\n",
       "      <td>0.0000</td>\n",
       "      <td>0.0000</td>\n",
       "      <td>0.0000</td>\n",
       "      <td>0.0000</td>\n",
       "      <td>0.0000</td>\n",
       "      <td>0.0000</td>\n",
       "      <td>0.0000</td>\n",
       "      <td>...</td>\n",
       "      <td>0.0000</td>\n",
       "      <td>0.0000</td>\n",
       "      <td>0.0000</td>\n",
       "      <td>0.0000</td>\n",
       "      <td>0.0000</td>\n",
       "      <td>0.0000</td>\n",
       "      <td>0.0000</td>\n",
       "      <td>0.0000</td>\n",
       "      <td>0.0000</td>\n",
       "      <td>0.0000</td>\n",
       "    </tr>\n",
       "    <tr>\n",
       "      <th>2</th>\n",
       "      <td>0.0000</td>\n",
       "      <td>0.0000</td>\n",
       "      <td>0.0000</td>\n",
       "      <td>0.0000</td>\n",
       "      <td>0.0000</td>\n",
       "      <td>0.0000</td>\n",
       "      <td>0.0000</td>\n",
       "      <td>0.0000</td>\n",
       "      <td>0.0000</td>\n",
       "      <td>0.0000</td>\n",
       "      <td>...</td>\n",
       "      <td>0.0000</td>\n",
       "      <td>0.0000</td>\n",
       "      <td>0.0000</td>\n",
       "      <td>0.0000</td>\n",
       "      <td>0.0000</td>\n",
       "      <td>0.0000</td>\n",
       "      <td>0.0000</td>\n",
       "      <td>0.0000</td>\n",
       "      <td>0.0000</td>\n",
       "      <td>0.0000</td>\n",
       "    </tr>\n",
       "    <tr>\n",
       "      <th>3</th>\n",
       "      <td>0.0000</td>\n",
       "      <td>0.0000</td>\n",
       "      <td>0.0000</td>\n",
       "      <td>0.0000</td>\n",
       "      <td>0.0000</td>\n",
       "      <td>0.0000</td>\n",
       "      <td>0.0000</td>\n",
       "      <td>0.0000</td>\n",
       "      <td>0.0000</td>\n",
       "      <td>0.0000</td>\n",
       "      <td>...</td>\n",
       "      <td>0.0000</td>\n",
       "      <td>0.0000</td>\n",
       "      <td>0.0000</td>\n",
       "      <td>0.0000</td>\n",
       "      <td>0.0000</td>\n",
       "      <td>0.0000</td>\n",
       "      <td>0.0000</td>\n",
       "      <td>0.0000</td>\n",
       "      <td>0.0000</td>\n",
       "      <td>0.0000</td>\n",
       "    </tr>\n",
       "    <tr>\n",
       "      <th>4</th>\n",
       "      <td>0.0000</td>\n",
       "      <td>0.0000</td>\n",
       "      <td>0.0000</td>\n",
       "      <td>0.0000</td>\n",
       "      <td>0.0000</td>\n",
       "      <td>0.0000</td>\n",
       "      <td>0.0000</td>\n",
       "      <td>0.0000</td>\n",
       "      <td>0.0000</td>\n",
       "      <td>0.0000</td>\n",
       "      <td>...</td>\n",
       "      <td>0.0000</td>\n",
       "      <td>0.0000</td>\n",
       "      <td>0.0000</td>\n",
       "      <td>0.0000</td>\n",
       "      <td>0.0000</td>\n",
       "      <td>0.0000</td>\n",
       "      <td>0.0000</td>\n",
       "      <td>0.0000</td>\n",
       "      <td>0.0000</td>\n",
       "      <td>0.0000</td>\n",
       "    </tr>\n",
       "  </tbody>\n",
       "</table>\n",
       "<p>5 rows × 9283 columns</p>\n",
       "</div>"
      ],
      "text/plain": [
       "      aa  aathe  aathis     ab  abalthough   aban  abandon  abdoman  abdomen  \\\n",
       "0 0.0000 0.0000  0.0000 0.0000      0.0000 0.0000   0.0000   0.0000   0.0000   \n",
       "1 0.0000 0.0000  0.0000 0.0000      0.0000 0.0000   0.0000   0.0000   0.0000   \n",
       "2 0.0000 0.0000  0.0000 0.0000      0.0000 0.0000   0.0000   0.0000   0.0000   \n",
       "3 0.0000 0.0000  0.0000 0.0000      0.0000 0.0000   0.0000   0.0000   0.0000   \n",
       "4 0.0000 0.0000  0.0000 0.0000      0.0000 0.0000   0.0000   0.0000   0.0000   \n",
       "\n",
       "   abdominal  ...  zealand  zellweger   zero   zeta   zinc   zona   zone  \\\n",
       "0     0.0000  ...   0.0000     0.0000 0.0000 0.0000 0.0000 0.0000 0.0000   \n",
       "1     0.0000  ...   0.0000     0.0000 0.0000 0.0000 0.0000 0.0000 0.0000   \n",
       "2     0.0000  ...   0.0000     0.0000 0.0000 0.0000 0.0000 0.0000 0.0000   \n",
       "3     0.0000  ...   0.0000     0.0000 0.0000 0.0000 0.0000 0.0000 0.0000   \n",
       "4     0.0000  ...   0.0000     0.0000 0.0000 0.0000 0.0000 0.0000 0.0000   \n",
       "\n",
       "   zymogen  zymogram     zz  \n",
       "0   0.0000    0.0000 0.0000  \n",
       "1   0.0000    0.0000 0.0000  \n",
       "2   0.0000    0.0000 0.0000  \n",
       "3   0.0000    0.0000 0.0000  \n",
       "4   0.0000    0.0000 0.0000  \n",
       "\n",
       "[5 rows x 9283 columns]"
      ]
     },
     "execution_count": 13,
     "metadata": {},
     "output_type": "execute_result"
    }
   ],
   "source": [
    "v_document, v_query =  tf_idf_technicals(df_data_pp['pp'], df_query_pp['pp'], 'tf-idf')\n",
    "v_document.head()"
   ]
  },
  {
   "cell_type": "markdown",
   "metadata": {},
   "source": [
    "Sentence Transform (Embeddings)"
   ]
  },
  {
   "cell_type": "code",
   "execution_count": 14,
   "metadata": {},
   "outputs": [
    {
     "name": "stdout",
     "output_type": "stream",
     "text": [
      "Embeddings Documents\n",
      "Execution time: 48.10016489028931s\n",
      "Size:1239\n",
      "Embeddings Queries\n",
      "Execution time: 0.7503890991210938s\n",
      "Size:100\n"
     ]
    }
   ],
   "source": [
    "model_name= 'paraphrase-MiniLM-L6-v2'\n",
    "print(\"Embeddings Documents\")\n",
    "e_document = get_embeddings(model_name, df_data_pp['pp'])\n",
    "\n",
    "print(\"Embeddings Queries\")\n",
    "e_query= get_embeddings(model_name, df_query_pp['pp'])"
   ]
  },
  {
   "cell_type": "markdown",
   "metadata": {},
   "source": [
    "# Data Analysis"
   ]
  },
  {
   "cell_type": "markdown",
   "metadata": {},
   "source": [
    "Query Exploration Data Analysis"
   ]
  },
  {
   "cell_type": "code",
   "execution_count": 15,
   "metadata": {},
   "outputs": [
    {
     "data": {
      "text/html": [
       "<div>\n",
       "<style scoped>\n",
       "    .dataframe tbody tr th:only-of-type {\n",
       "        vertical-align: middle;\n",
       "    }\n",
       "\n",
       "    .dataframe tbody tr th {\n",
       "        vertical-align: top;\n",
       "    }\n",
       "\n",
       "    .dataframe thead th {\n",
       "        text-align: right;\n",
       "    }\n",
       "</style>\n",
       "<table border=\"1\" class=\"dataframe\">\n",
       "  <thead>\n",
       "    <tr style=\"text-align: right;\">\n",
       "      <th></th>\n",
       "      <th>id_query</th>\n",
       "      <th>QU</th>\n",
       "      <th>qnt_doc_relevant</th>\n",
       "      <th>doc_relevant</th>\n",
       "    </tr>\n",
       "  </thead>\n",
       "  <tbody>\n",
       "    <tr>\n",
       "      <th>0</th>\n",
       "      <td>1</td>\n",
       "      <td>What are the effects of calcium on the physica...</td>\n",
       "      <td>34</td>\n",
       "      <td>[139, 151, 166, 311, 370, 392, 439, 440, 441, ...</td>\n",
       "    </tr>\n",
       "    <tr>\n",
       "      <th>1</th>\n",
       "      <td>2</td>\n",
       "      <td>Can one distinguish between the effects of muc...</td>\n",
       "      <td>7</td>\n",
       "      <td>[169, 434, 454, 498, 499, 592, 875]</td>\n",
       "    </tr>\n",
       "    <tr>\n",
       "      <th>2</th>\n",
       "      <td>3</td>\n",
       "      <td>How are salivary glycoproteins from CF patient...</td>\n",
       "      <td>43</td>\n",
       "      <td>[23, 40, 139, 190, 221, 246, 309, 311, 325, 34...</td>\n",
       "    </tr>\n",
       "    <tr>\n",
       "      <th>3</th>\n",
       "      <td>4</td>\n",
       "      <td>What is the lipid composition of CF respirator...</td>\n",
       "      <td>9</td>\n",
       "      <td>[503, 538, 539, 540, 553, 604, 669, 711, 876]</td>\n",
       "    </tr>\n",
       "    <tr>\n",
       "      <th>4</th>\n",
       "      <td>5</td>\n",
       "      <td>Is CF mucus abnormal?</td>\n",
       "      <td>131</td>\n",
       "      <td>[23, 47, 50, 60, 114, 132, 135, 139, 151, 169,...</td>\n",
       "    </tr>\n",
       "  </tbody>\n",
       "</table>\n",
       "</div>"
      ],
      "text/plain": [
       "   id_query                                                 QU  \\\n",
       "0         1  What are the effects of calcium on the physica...   \n",
       "1         2  Can one distinguish between the effects of muc...   \n",
       "2         3  How are salivary glycoproteins from CF patient...   \n",
       "3         4  What is the lipid composition of CF respirator...   \n",
       "4         5                              Is CF mucus abnormal?   \n",
       "\n",
       "   qnt_doc_relevant                                       doc_relevant  \n",
       "0                34  [139, 151, 166, 311, 370, 392, 439, 440, 441, ...  \n",
       "1                 7                [169, 434, 454, 498, 499, 592, 875]  \n",
       "2                43  [23, 40, 139, 190, 221, 246, 309, 311, 325, 34...  \n",
       "3                 9      [503, 538, 539, 540, 553, 604, 669, 711, 876]  \n",
       "4               131  [23, 47, 50, 60, 114, 132, 135, 139, 151, 169,...  "
      ]
     },
     "execution_count": 15,
     "metadata": {},
     "output_type": "execute_result"
    }
   ],
   "source": [
    "df_query = df_query.rename(columns={'NR':'qnt_doc_relevant', 'RD':'doc_relevant'})\n",
    "df_query.head()"
   ]
  },
  {
   "cell_type": "code",
   "execution_count": 16,
   "metadata": {},
   "outputs": [
    {
     "data": {
      "text/plain": [
       "'Moda=[17] Mediana= 32.0'"
      ]
     },
     "execution_count": 16,
     "metadata": {},
     "output_type": "execute_result"
    }
   ],
   "source": [
    "f\"Moda={df_query['qnt_doc_relevant'].mode().values} Mediana= {df_query['qnt_doc_relevant'].median()}\""
   ]
  },
  {
   "cell_type": "code",
   "execution_count": 17,
   "metadata": {},
   "outputs": [
    {
     "data": {
      "text/plain": [
       "count   100.0000\n",
       "mean     48.1900\n",
       "std      49.9755\n",
       "min       2.0000\n",
       "25%      17.0000\n",
       "50%      32.0000\n",
       "75%      55.5000\n",
       "max     304.0000\n",
       "Name: qnt_doc_relevant, dtype: float64"
      ]
     },
     "execution_count": 17,
     "metadata": {},
     "output_type": "execute_result"
    }
   ],
   "source": [
    "df_query['qnt_doc_relevant'].describe()"
   ]
  },
  {
   "cell_type": "code",
   "execution_count": 18,
   "metadata": {},
   "outputs": [
    {
     "data": {
      "image/png": "[encoded data removed]",
      "text/plain": [
       "<Figure size 600x300 with 1 Axes>"
      ]
     },
     "metadata": {},
     "output_type": "display_data"
    },
    {
     "name": "stdout",
     "output_type": "stream",
     "text": [
      "Q1: 17.0\n",
      "Q3: 55.5\n",
      "IQR:38.5\n"
     ]
    }
   ],
   "source": [
    "q1 = np.percentile(df_query['qnt_doc_relevant'], 25)\n",
    "q3 = np.percentile(df_query['qnt_doc_relevant'], 75)\n",
    "iqr = q3 - q1\n",
    "\n",
    "plt.figure(figsize=(6, 3))\n",
    "plt.boxplot(x=df_query['qnt_doc_relevant'], vert=False, patch_artist=True)\n",
    "plt.axvline(q1, color='black', linestyle=':', label='Q1')\n",
    "plt.axvline(q3, color='gray', linestyle='-', label='Q3')\n",
    "plt.text(q1, 1.25, f'Q1={q1:.2f}', color='black', ha='left', fontsize=9)\n",
    "plt.text(q3, 0.75, f'Q3={q3:.2f}', color='gray', ha='left', fontsize=9)\n",
    "plt.legend()\n",
    "plt.title('Distribuição do Número de Consultas')\n",
    "plt.show()\n",
    "\n",
    "print(f\"Q1: {q1}\\nQ3: {q3}\\nIQR:{iqr}\")"
   ]
  },
  {
   "cell_type": "markdown",
   "metadata": {},
   "source": [
    "Como escolher um k mínimo para retorno no FAISS? \n",
    "\n",
    "A média de documentos não pode ser considerada boa para este tipo de base de dados, onde possui muitos outilers com valores muito alto, isso faz com que a dispersão dos dados seja alta.\n",
    "\n",
    "Entretanto se escolhemos como limite o Q1, estaremos concentrando os resultados apenas em 25% dos dados, se esolhermos o valor de corte como Q3 satisfazemos o nível de consulta para 75% da base. Entretanto ao escolher o ponto de corte em Q1, ignoramos a representatividade de 50% dos dados, o que levaria a uma falsa precisão do sistema. Caso escolha Q3, estariamos negligenciando 25% da base de dados, buscando além do que é necessário e consequentemente trazendo lixo para os resultados.\n",
    "\n",
    "O IQR é um número que fica entre o Q1 e o Q3, que consegue equilibrar o trade-off para o sistema entre deixar de retornar muito documento relevante e retornar irrerlevantes quando não seria necessário um grande retorno. Enteão, de acordo com a análise dessa base de dados, o mais indicado é retornar o número mínimo de 38 documentos(IQR), pois é o número que representa melhor a quantidade de documentos relevantes para cada registro no conjunto de dados completo."
   ]
  },
  {
   "cell_type": "markdown",
   "metadata": {},
   "source": [
    "# FAISS"
   ]
  },
  {
   "cell_type": "markdown",
   "metadata": {},
   "source": [
    "## Functions"
   ]
  },
  {
   "cell_type": "code",
   "execution_count": 19,
   "metadata": {},
   "outputs": [],
   "source": [
    "def apply_FAISS(document, d_ids, query, q_ids, k_nearest):\n",
    "    \n",
    "    initial_time = time.time()\n",
    "    \n",
    "    dim =  document.shape[1]\n",
    "    document = np.asarray(document, dtype='float32')\n",
    "    query = np.asarray(query, dtype='float32')\n",
    "\n",
    "    faiss.normalize_L2(document)\n",
    "    index = faiss.IndexFlatIP(dim)\n",
    "    index = faiss.IndexIDMap(index)\n",
    "    index.add_with_ids(document, d_ids)\n",
    "\n",
    "    \n",
    "    search_query = query.copy().astype(np.float32)\n",
    "    faiss.normalize_L2(search_query)\n",
    "\n",
    "    similarities, similarities_id = index.search( search_query, k=k_nearest )\n",
    "    similarities = np.around(np.clip(similarities, 0, 1), decimals=4)\n",
    "\n",
    "\n",
    "    result = []\n",
    "    for i, q_id in enumerate( q_ids ):\n",
    "        \n",
    "        neighbors = similarities_id[i]\n",
    "        dist_neighbors = similarities[i]\n",
    "        result.append({ 'id_query': q_id,\n",
    "                        'doc_retrieval': neighbors,\n",
    "                        'dist': dist_neighbors})\n",
    "        \n",
    "    print(f\"Execution Time = {np.around(time.time() - initial_time, decimals=4)}s\")\n",
    "\n",
    "    return pd.DataFrame(result)"
   ]
  },
  {
   "cell_type": "code",
   "execution_count": 20,
   "metadata": {},
   "outputs": [
    {
     "name": "stdout",
     "output_type": "stream",
     "text": [
      "FAISS FlatIP TF-IDF:\n",
      "Execution Time = 0.1282s\n",
      "FAISS FlatIP Embeddings:\n",
      "Execution Time = 0.004s\n"
     ]
    }
   ],
   "source": [
    "document_ids = df_data_pp['id_document'].to_list()\n",
    "query_ids =  df_query_pp['id_query'].to_list()\n",
    "\n",
    "# Vector TF-IDF\n",
    "print(\"FAISS FlatIP TF-IDF:\")\n",
    "result_v = apply_FAISS(v_document, document_ids, v_query, query_ids, 38)\n",
    "\n",
    "# Embeddings\n",
    "print(\"FAISS FlatIP Embeddings:\")\n",
    "result_e = apply_FAISS(e_document, document_ids, e_query, query_ids, 38)"
   ]
  },
  {
   "cell_type": "markdown",
   "metadata": {},
   "source": [
    "# Evaluation"
   ]
  },
  {
   "cell_type": "markdown",
   "metadata": {},
   "source": [
    "## Functions"
   ]
  },
  {
   "cell_type": "code",
   "execution_count": 21,
   "metadata": {},
   "outputs": [],
   "source": [
    "def caclulate_dist_stats(data, col_dist):\n",
    "\n",
    "    data['dist_min'] = data[col_dist].apply(lambda x: min(x))\n",
    "    data['dist_max'] = data[col_dist].apply(lambda x: max(x))\n",
    "    data['dist_mean'] = data[col_dist].apply(lambda x: statistics.mean(x))\n",
    "    data['dist_median'] = data[col_dist].apply(lambda x: statistics.median(x))\n",
    "    data['dist_std'] = data[col_dist].apply(lambda x: statistics.stdev(x)) \n",
    "    \n",
    "    return data\n",
    "\n",
    "def calculate_precision_recall_complete(data):\n",
    "    \n",
    "    precision_recall_list = []\n",
    "\n",
    "    for row in data.iterrows():\n",
    "\n",
    "        id_query = row[1]['id_query']\n",
    "        qnt_doc_relevant = row[1]['qnt_doc_relevant']\n",
    "        doc_relevant = set(row[1]['doc_relevant'])\n",
    "        doc_retrieval = set(row[1]['doc_retrieval'])\n",
    "\n",
    "        precision = len(doc_relevant.intersection(doc_retrieval)) / len(doc_retrieval) if len(doc_retrieval) > 0 else 0\n",
    " \n",
    "        recall = len(doc_relevant.intersection(doc_retrieval)) / qnt_doc_relevant\n",
    "\n",
    "        precision_recall_list.append({\n",
    "            'id_query': id_query,\n",
    "            'precision_general': float(f\"{precision:.2f}\"),\n",
    "            'recall_general': float(f\"{recall:.2f}\"),\n",
    "            'doc_retrieval': list(doc_retrieval)\n",
    "        })\n",
    "\n",
    "    return pd.DataFrame(precision_recall_list)\n",
    "\n",
    "def calculate_precision_recall_by_level(df: pd.DataFrame) -> pd.DataFrame:\n",
    "    \n",
    "    result = []\n",
    "\n",
    "    for _, row in df.iterrows():\n",
    "        id_query = row['id_query']\n",
    "        total_retrieval = row['doc_retrieval']\n",
    "\n",
    "        # Itera pelos níveis especificados\n",
    "        for level in [0.1, 0.2, 0.3, 0.4, 0.5, 0.6, 0.7, 0.8, 0.9, 1.0]:\n",
    "            # Calcula a quantidade de elementos a serem considerados\n",
    "            qnt_elements = int(len(total_retrieval) * level)\n",
    "            doc_retrieval_it = total_retrieval[:qnt_elements]\n",
    "\n",
    "            # Documentos relevantes na iteração atual\n",
    "            doc_relevant_it = set(row['doc_relevant'][:qnt_elements])\n",
    "\n",
    "            # Cálculo da interseção entre documentos recuperados e relevantes\n",
    "            intersection = set(doc_retrieval_it).intersection(set(row['doc_relevant']))\n",
    "\n",
    "            # Cálculo da precisão (precision) e recall\n",
    "            precision = len(intersection) / len(doc_retrieval_it) if len(doc_retrieval_it) > 0 else 0\n",
    "            recall = len(intersection) / len(doc_relevant_it) if len(doc_relevant_it) > 0 else 0\n",
    "\n",
    "            result.append({\n",
    "                'id_query': id_query,\n",
    "                'percent_retrieval': level * 100,\n",
    "                'precision': float(f\"{precision:.2f}\"),\n",
    "                'recall': float(f\"{recall:.2f}\"),\n",
    "                'doc_retrieval': doc_retrieval_it\n",
    "            })\n",
    "\n",
    "    return pd.DataFrame(result)\n",
    "\n",
    "def find_first_position(relevant, retrieval):\n",
    "\n",
    "    for i, element in enumerate(retrieval):\n",
    "        if element in relevant:\n",
    "            return i  # Retorna a posição onde o element foi encontrado em l2\n",
    "\n",
    "    return -1  # Retorna None se nenhum element de l2 estiver em l1\n",
    "\n",
    "def calculate_rr(scorrect, sh):\n",
    "    if scorrect <= sh:\n",
    "        return 1\n",
    "    else:\n",
    "        return 0\n",
    "\n",
    "def calculate_mrr(data, threshold):  \n",
    "          \n",
    "    total_mrr = 0.0\n",
    "    num_queries = len(data)\n",
    "\n",
    "    for row in data.iterrows() :\n",
    "        scorrect = row[1]['first_position']\n",
    "        rr = calculate_rr(scorrect, threshold)\n",
    "        total_mrr += rr\n",
    "\n",
    "    mrr = total_mrr / num_queries\n",
    "    \n",
    "    return mrr\n",
    "\n",
    "def precision_at_k(relevant_docs, retrieved_docs, k):\n",
    "\n",
    "    # Considera apenas os primeiros k documentos recuperados\n",
    "    retrieved_docs_at_k = retrieved_docs[:k]\n",
    "\n",
    "    # Calcula a interseção entre documentos relevantes e recuperados até k\n",
    "    intersection = set(relevant_docs).intersection(set(retrieved_docs_at_k))\n",
    "\n",
    "    # Calcula a precisão em k\n",
    "    precision = len(intersection) / k if k > 0 else 0\n",
    "\n",
    "    return precision"
   ]
  },
  {
   "cell_type": "code",
   "execution_count": 22,
   "metadata": {},
   "outputs": [
    {
     "data": {
      "text/html": [
       "<div>\n",
       "<style scoped>\n",
       "    .dataframe tbody tr th:only-of-type {\n",
       "        vertical-align: middle;\n",
       "    }\n",
       "\n",
       "    .dataframe tbody tr th {\n",
       "        vertical-align: top;\n",
       "    }\n",
       "\n",
       "    .dataframe thead th {\n",
       "        text-align: right;\n",
       "    }\n",
       "</style>\n",
       "<table border=\"1\" class=\"dataframe\">\n",
       "  <thead>\n",
       "    <tr style=\"text-align: right;\">\n",
       "      <th></th>\n",
       "      <th>id_query</th>\n",
       "      <th>doc_retrieval</th>\n",
       "      <th>dist</th>\n",
       "      <th>qnt_doc_relevant</th>\n",
       "      <th>doc_relevant</th>\n",
       "      <th>dist_min</th>\n",
       "      <th>dist_max</th>\n",
       "      <th>dist_mean</th>\n",
       "      <th>dist_median</th>\n",
       "      <th>dist_std</th>\n",
       "    </tr>\n",
       "  </thead>\n",
       "  <tbody>\n",
       "    <tr>\n",
       "      <th>0</th>\n",
       "      <td>1</td>\n",
       "      <td>[827, 461, 533, 960, 454, 484, 437, 741, 975, ...</td>\n",
       "      <td>[0.5072, 0.495, 0.4834, 0.4661, 0.4458, 0.4328...</td>\n",
       "      <td>34</td>\n",
       "      <td>[139, 151, 166, 311, 370, 392, 439, 440, 441, ...</td>\n",
       "      <td>0.3140</td>\n",
       "      <td>0.5072</td>\n",
       "      <td>0.3743</td>\n",
       "      <td>0.3587</td>\n",
       "      <td>0.0531</td>\n",
       "    </tr>\n",
       "    <tr>\n",
       "      <th>1</th>\n",
       "      <td>2</td>\n",
       "      <td>[975, 437, 151, 592, 439, 265, 980, 114, 805, ...</td>\n",
       "      <td>[0.5501, 0.5232, 0.5116, 0.4972, 0.4853, 0.478...</td>\n",
       "      <td>7</td>\n",
       "      <td>[169, 434, 454, 498, 499, 592, 875]</td>\n",
       "      <td>0.3740</td>\n",
       "      <td>0.5501</td>\n",
       "      <td>0.4287</td>\n",
       "      <td>0.4160</td>\n",
       "      <td>0.0466</td>\n",
       "    </tr>\n",
       "    <tr>\n",
       "      <th>2</th>\n",
       "      <td>3</td>\n",
       "      <td>[439, 445, 633, 856, 256, 1175, 1125, 374, 500...</td>\n",
       "      <td>[0.5802, 0.5449, 0.5203, 0.52, 0.5097, 0.5033,...</td>\n",
       "      <td>43</td>\n",
       "      <td>[23, 40, 139, 190, 221, 246, 309, 311, 325, 34...</td>\n",
       "      <td>0.4289</td>\n",
       "      <td>0.5802</td>\n",
       "      <td>0.4678</td>\n",
       "      <td>0.4545</td>\n",
       "      <td>0.0355</td>\n",
       "    </tr>\n",
       "    <tr>\n",
       "      <th>3</th>\n",
       "      <td>4</td>\n",
       "      <td>[604, 374, 876, 711, 539, 439, 278, 441, 669, ...</td>\n",
       "      <td>[0.5452, 0.4962, 0.4946, 0.4833, 0.4706, 0.470...</td>\n",
       "      <td>9</td>\n",
       "      <td>[503, 538, 539, 540, 553, 604, 669, 711, 876]</td>\n",
       "      <td>0.4038</td>\n",
       "      <td>0.5452</td>\n",
       "      <td>0.4349</td>\n",
       "      <td>0.4233</td>\n",
       "      <td>0.0331</td>\n",
       "    </tr>\n",
       "    <tr>\n",
       "      <th>4</th>\n",
       "      <td>5</td>\n",
       "      <td>[867, 501, 975, 439, 437, 559, 499, 875, 498, ...</td>\n",
       "      <td>[0.6094, 0.5658, 0.5657, 0.5538, 0.5413, 0.540...</td>\n",
       "      <td>131</td>\n",
       "      <td>[23, 47, 50, 60, 114, 132, 135, 139, 151, 169,...</td>\n",
       "      <td>0.4410</td>\n",
       "      <td>0.6094</td>\n",
       "      <td>0.4877</td>\n",
       "      <td>0.4815</td>\n",
       "      <td>0.0428</td>\n",
       "    </tr>\n",
       "  </tbody>\n",
       "</table>\n",
       "</div>"
      ],
      "text/plain": [
       "   id_query                                      doc_retrieval  \\\n",
       "0         1  [827, 461, 533, 960, 454, 484, 437, 741, 975, ...   \n",
       "1         2  [975, 437, 151, 592, 439, 265, 980, 114, 805, ...   \n",
       "2         3  [439, 445, 633, 856, 256, 1175, 1125, 374, 500...   \n",
       "3         4  [604, 374, 876, 711, 539, 439, 278, 441, 669, ...   \n",
       "4         5  [867, 501, 975, 439, 437, 559, 499, 875, 498, ...   \n",
       "\n",
       "                                                dist  qnt_doc_relevant  \\\n",
       "0  [0.5072, 0.495, 0.4834, 0.4661, 0.4458, 0.4328...                34   \n",
       "1  [0.5501, 0.5232, 0.5116, 0.4972, 0.4853, 0.478...                 7   \n",
       "2  [0.5802, 0.5449, 0.5203, 0.52, 0.5097, 0.5033,...                43   \n",
       "3  [0.5452, 0.4962, 0.4946, 0.4833, 0.4706, 0.470...                 9   \n",
       "4  [0.6094, 0.5658, 0.5657, 0.5538, 0.5413, 0.540...               131   \n",
       "\n",
       "                                        doc_relevant  dist_min  dist_max  \\\n",
       "0  [139, 151, 166, 311, 370, 392, 439, 440, 441, ...    0.3140    0.5072   \n",
       "1                [169, 434, 454, 498, 499, 592, 875]    0.3740    0.5501   \n",
       "2  [23, 40, 139, 190, 221, 246, 309, 311, 325, 34...    0.4289    0.5802   \n",
       "3      [503, 538, 539, 540, 553, 604, 669, 711, 876]    0.4038    0.5452   \n",
       "4  [23, 47, 50, 60, 114, 132, 135, 139, 151, 169,...    0.4410    0.6094   \n",
       "\n",
       "   dist_mean  dist_median  dist_std  \n",
       "0     0.3743       0.3587    0.0531  \n",
       "1     0.4287       0.4160    0.0466  \n",
       "2     0.4678       0.4545    0.0355  \n",
       "3     0.4349       0.4233    0.0331  \n",
       "4     0.4877       0.4815    0.0428  "
      ]
     },
     "execution_count": 22,
     "metadata": {},
     "output_type": "execute_result"
    }
   ],
   "source": [
    "result_e = pd.merge(result_e, df_query[['id_query','qnt_doc_relevant', 'doc_relevant']], on='id_query')\n",
    "result_e = caclulate_dist_stats(result_e, 'dist')\n",
    "result_e.head()"
   ]
  },
  {
   "cell_type": "code",
   "execution_count": 23,
   "metadata": {},
   "outputs": [
    {
     "data": {
      "text/html": [
       "<div>\n",
       "<style scoped>\n",
       "    .dataframe tbody tr th:only-of-type {\n",
       "        vertical-align: middle;\n",
       "    }\n",
       "\n",
       "    .dataframe tbody tr th {\n",
       "        vertical-align: top;\n",
       "    }\n",
       "\n",
       "    .dataframe thead th {\n",
       "        text-align: right;\n",
       "    }\n",
       "</style>\n",
       "<table border=\"1\" class=\"dataframe\">\n",
       "  <thead>\n",
       "    <tr style=\"text-align: right;\">\n",
       "      <th></th>\n",
       "      <th>id_query</th>\n",
       "      <th>doc_retrieval</th>\n",
       "      <th>dist</th>\n",
       "      <th>qnt_doc_relevant</th>\n",
       "      <th>doc_relevant</th>\n",
       "      <th>dist_min</th>\n",
       "      <th>dist_max</th>\n",
       "      <th>dist_mean</th>\n",
       "      <th>dist_median</th>\n",
       "      <th>dist_std</th>\n",
       "    </tr>\n",
       "  </thead>\n",
       "  <tbody>\n",
       "    <tr>\n",
       "      <th>0</th>\n",
       "      <td>1</td>\n",
       "      <td>[484, 437, 499, 741, 498, 827, 957, 592, 533, ...</td>\n",
       "      <td>[0.2589, 0.2539, 0.2303, 0.2285, 0.2232, 0.212...</td>\n",
       "      <td>34</td>\n",
       "      <td>[139, 151, 166, 311, 370, 392, 439, 440, 441, ...</td>\n",
       "      <td>0.1023</td>\n",
       "      <td>0.2589</td>\n",
       "      <td>0.1597</td>\n",
       "      <td>0.1550</td>\n",
       "      <td>0.0432</td>\n",
       "    </tr>\n",
       "    <tr>\n",
       "      <th>1</th>\n",
       "      <td>2</td>\n",
       "      <td>[592, 498, 980, 754, 481, 499, 925, 114, 711, ...</td>\n",
       "      <td>[0.4275, 0.2099, 0.1887, 0.1755, 0.1749, 0.166...</td>\n",
       "      <td>7</td>\n",
       "      <td>[169, 434, 454, 498, 499, 592, 875]</td>\n",
       "      <td>0.0629</td>\n",
       "      <td>0.4275</td>\n",
       "      <td>0.1145</td>\n",
       "      <td>0.0877</td>\n",
       "      <td>0.0653</td>\n",
       "    </tr>\n",
       "    <tr>\n",
       "      <th>2</th>\n",
       "      <td>3</td>\n",
       "      <td>[856, 633, 439, 959, 500, 1206, 23, 77, 805, 1...</td>\n",
       "      <td>[0.4266, 0.3923, 0.3166, 0.2955, 0.2588, 0.242...</td>\n",
       "      <td>43</td>\n",
       "      <td>[23, 40, 139, 190, 221, 246, 309, 311, 325, 34...</td>\n",
       "      <td>0.1222</td>\n",
       "      <td>0.4266</td>\n",
       "      <td>0.1888</td>\n",
       "      <td>0.1656</td>\n",
       "      <td>0.0707</td>\n",
       "    </tr>\n",
       "    <tr>\n",
       "      <th>3</th>\n",
       "      <td>4</td>\n",
       "      <td>[715, 604, 357, 876, 725, 1030, 928, 662, 1039...</td>\n",
       "      <td>[0.4011, 0.3433, 0.2904, 0.281, 0.2766, 0.2751...</td>\n",
       "      <td>9</td>\n",
       "      <td>[503, 538, 539, 540, 553, 604, 669, 711, 876]</td>\n",
       "      <td>0.1144</td>\n",
       "      <td>0.4011</td>\n",
       "      <td>0.1815</td>\n",
       "      <td>0.1650</td>\n",
       "      <td>0.0670</td>\n",
       "    </tr>\n",
       "    <tr>\n",
       "      <th>4</th>\n",
       "      <td>5</td>\n",
       "      <td>[498, 754, 499, 711, 592, 265, 975, 151, 501, ...</td>\n",
       "      <td>[0.3565, 0.3303, 0.3028, 0.2984, 0.296, 0.2706...</td>\n",
       "      <td>131</td>\n",
       "      <td>[23, 47, 50, 60, 114, 132, 135, 139, 151, 169,...</td>\n",
       "      <td>0.1142</td>\n",
       "      <td>0.3565</td>\n",
       "      <td>0.1826</td>\n",
       "      <td>0.1468</td>\n",
       "      <td>0.0717</td>\n",
       "    </tr>\n",
       "  </tbody>\n",
       "</table>\n",
       "</div>"
      ],
      "text/plain": [
       "   id_query                                      doc_retrieval  \\\n",
       "0         1  [484, 437, 499, 741, 498, 827, 957, 592, 533, ...   \n",
       "1         2  [592, 498, 980, 754, 481, 499, 925, 114, 711, ...   \n",
       "2         3  [856, 633, 439, 959, 500, 1206, 23, 77, 805, 1...   \n",
       "3         4  [715, 604, 357, 876, 725, 1030, 928, 662, 1039...   \n",
       "4         5  [498, 754, 499, 711, 592, 265, 975, 151, 501, ...   \n",
       "\n",
       "                                                dist  qnt_doc_relevant  \\\n",
       "0  [0.2589, 0.2539, 0.2303, 0.2285, 0.2232, 0.212...                34   \n",
       "1  [0.4275, 0.2099, 0.1887, 0.1755, 0.1749, 0.166...                 7   \n",
       "2  [0.4266, 0.3923, 0.3166, 0.2955, 0.2588, 0.242...                43   \n",
       "3  [0.4011, 0.3433, 0.2904, 0.281, 0.2766, 0.2751...                 9   \n",
       "4  [0.3565, 0.3303, 0.3028, 0.2984, 0.296, 0.2706...               131   \n",
       "\n",
       "                                        doc_relevant  dist_min  dist_max  \\\n",
       "0  [139, 151, 166, 311, 370, 392, 439, 440, 441, ...    0.1023    0.2589   \n",
       "1                [169, 434, 454, 498, 499, 592, 875]    0.0629    0.4275   \n",
       "2  [23, 40, 139, 190, 221, 246, 309, 311, 325, 34...    0.1222    0.4266   \n",
       "3      [503, 538, 539, 540, 553, 604, 669, 711, 876]    0.1144    0.4011   \n",
       "4  [23, 47, 50, 60, 114, 132, 135, 139, 151, 169,...    0.1142    0.3565   \n",
       "\n",
       "   dist_mean  dist_median  dist_std  \n",
       "0     0.1597       0.1550    0.0432  \n",
       "1     0.1145       0.0877    0.0653  \n",
       "2     0.1888       0.1656    0.0707  \n",
       "3     0.1815       0.1650    0.0670  \n",
       "4     0.1826       0.1468    0.0717  "
      ]
     },
     "execution_count": 23,
     "metadata": {},
     "output_type": "execute_result"
    }
   ],
   "source": [
    "result_v = pd.merge(result_v, df_query[['id_query','qnt_doc_relevant', 'doc_relevant']], on='id_query')\n",
    "result_v = caclulate_dist_stats(result_v, 'dist')\n",
    "result_v.head()"
   ]
  },
  {
   "cell_type": "markdown",
   "metadata": {},
   "source": [
    "## Distance Analysis"
   ]
  },
  {
   "cell_type": "code",
   "execution_count": 24,
   "metadata": {},
   "outputs": [
    {
     "data": {
      "text/plain": [
       "dist_min      0.1833\n",
       "dist_max      0.7553\n",
       "dist_mean     0.4384\n",
       "dist_std      0.0401\n",
       "dist_median   0.4272\n",
       "dtype: float64"
      ]
     },
     "execution_count": 24,
     "metadata": {},
     "output_type": "execute_result"
    }
   ],
   "source": [
    "result_e.agg({'dist_min':'min', 'dist_max':'max', 'dist_mean':'mean', 'dist_std':'mean', 'dist_median':'mean'})"
   ]
  },
  {
   "cell_type": "code",
   "execution_count": 25,
   "metadata": {},
   "outputs": [
    {
     "data": {
      "text/plain": [
       "dist_min      0.0330\n",
       "dist_max      0.6535\n",
       "dist_mean     0.1408\n",
       "dist_std      0.0573\n",
       "dist_median   0.1224\n",
       "dtype: float64"
      ]
     },
     "execution_count": 25,
     "metadata": {},
     "output_type": "execute_result"
    }
   ],
   "source": [
    "result_v.agg({'dist_min':'min', 'dist_max':'max', 'dist_mean':'mean', 'dist_std':'mean', 'dist_median':'mean'})"
   ]
  },
  {
   "cell_type": "code",
   "execution_count": 26,
   "metadata": {},
   "outputs": [
    {
     "data": {
      "image/png": "[encoded data removed]",
      "text/plain": [
       "<Figure size 1000x300 with 2 Axes>"
      ]
     },
     "metadata": {},
     "output_type": "display_data"
    }
   ],
   "source": [
    "palette_cinza = sns.color_palette(\"gray\")\n",
    "\n",
    "fig, axes = plt.subplots(1, 2, figsize=(10, 3))\n",
    "\n",
    "sns.kdeplot(result_v['dist_mean'], fill=True, ax=axes[0], color=palette_cinza[0])\n",
    "axes[0].set_title('Distribuição das Distâncias Médias - TF-IDF')\n",
    "axes[0].set_xlabel('')\n",
    "axes[0].set_ylabel('')\n",
    "\n",
    "sns.kdeplot(result_e['dist_mean'], fill=True, ax=axes[1], color=palette_cinza[0])\n",
    "axes[1].set_title('Distribuição das Distâncias Médias - Embeddings')\n",
    "axes[1].set_xlabel('')\n",
    "axes[1].set_ylabel('')\n",
    "\n",
    "plt.tight_layout()\n",
    "\n",
    "plt.show()"
   ]
  },
  {
   "cell_type": "markdown",
   "metadata": {},
   "source": [
    "## Precision and Recall"
   ]
  },
  {
   "cell_type": "code",
   "execution_count": 27,
   "metadata": {},
   "outputs": [
    {
     "data": {
      "text/html": [
       "<div>\n",
       "<style scoped>\n",
       "    .dataframe tbody tr th:only-of-type {\n",
       "        vertical-align: middle;\n",
       "    }\n",
       "\n",
       "    .dataframe tbody tr th {\n",
       "        vertical-align: top;\n",
       "    }\n",
       "\n",
       "    .dataframe thead th {\n",
       "        text-align: right;\n",
       "    }\n",
       "</style>\n",
       "<table border=\"1\" class=\"dataframe\">\n",
       "  <thead>\n",
       "    <tr style=\"text-align: right;\">\n",
       "      <th></th>\n",
       "      <th>id_query</th>\n",
       "      <th>precision_general</th>\n",
       "      <th>recall_general</th>\n",
       "      <th>doc_retrieval</th>\n",
       "    </tr>\n",
       "  </thead>\n",
       "  <tbody>\n",
       "    <tr>\n",
       "      <th>0</th>\n",
       "      <td>1</td>\n",
       "      <td>0.2100</td>\n",
       "      <td>0.2400</td>\n",
       "      <td>[265, 1034, 139, 140, 147, 533, 1185, 40, 430,...</td>\n",
       "    </tr>\n",
       "    <tr>\n",
       "      <th>1</th>\n",
       "      <td>2</td>\n",
       "      <td>0.0800</td>\n",
       "      <td>0.4300</td>\n",
       "      <td>[265, 915, 788, 533, 151, 1175, 1049, 23, 925,...</td>\n",
       "    </tr>\n",
       "    <tr>\n",
       "      <th>2</th>\n",
       "      <td>3</td>\n",
       "      <td>0.3400</td>\n",
       "      <td>0.3000</td>\n",
       "      <td>[256, 644, 520, 139, 269, 401, 1175, 23, 412, ...</td>\n",
       "    </tr>\n",
       "    <tr>\n",
       "      <th>3</th>\n",
       "      <td>4</td>\n",
       "      <td>0.1300</td>\n",
       "      <td>0.5600</td>\n",
       "      <td>[1030, 787, 278, 1050, 539, 924, 669, 283, 287...</td>\n",
       "    </tr>\n",
       "    <tr>\n",
       "      <th>4</th>\n",
       "      <td>5</td>\n",
       "      <td>0.5300</td>\n",
       "      <td>0.1500</td>\n",
       "      <td>[776, 265, 913, 915, 533, 151, 805, 1192, 297,...</td>\n",
       "    </tr>\n",
       "  </tbody>\n",
       "</table>\n",
       "</div>"
      ],
      "text/plain": [
       "   id_query  precision_general  recall_general  \\\n",
       "0         1             0.2100          0.2400   \n",
       "1         2             0.0800          0.4300   \n",
       "2         3             0.3400          0.3000   \n",
       "3         4             0.1300          0.5600   \n",
       "4         5             0.5300          0.1500   \n",
       "\n",
       "                                       doc_retrieval  \n",
       "0  [265, 1034, 139, 140, 147, 533, 1185, 40, 430,...  \n",
       "1  [265, 915, 788, 533, 151, 1175, 1049, 23, 925,...  \n",
       "2  [256, 644, 520, 139, 269, 401, 1175, 23, 412, ...  \n",
       "3  [1030, 787, 278, 1050, 539, 924, 669, 283, 287...  \n",
       "4  [776, 265, 913, 915, 533, 151, 805, 1192, 297,...  "
      ]
     },
     "execution_count": 27,
     "metadata": {},
     "output_type": "execute_result"
    }
   ],
   "source": [
    "pr_complete_e = calculate_precision_recall_complete(result_e)\n",
    "pr_complete_v = calculate_precision_recall_complete(result_v)\n",
    "pr_complete_e.head()"
   ]
  },
  {
   "cell_type": "code",
   "execution_count": 28,
   "metadata": {},
   "outputs": [
    {
     "data": {
      "text/plain": [
       "('Embeddings',\n",
       " precision_general   0.2464\n",
       " recall_general      0.2665\n",
       " dtype: float64,\n",
       " 'TF-IDF',\n",
       " precision_general   0.2596\n",
       " recall_general      0.2929\n",
       " dtype: float64)"
      ]
     },
     "execution_count": 28,
     "metadata": {},
     "output_type": "execute_result"
    }
   ],
   "source": [
    "\"Embeddings\", pr_complete_e[['precision_general', 'recall_general']].mean(), \"TF-IDF\", pr_complete_v[['precision_general', 'recall_general']].mean()"
   ]
  },
  {
   "cell_type": "markdown",
   "metadata": {},
   "source": [
    "## Precision at k"
   ]
  },
  {
   "cell_type": "code",
   "execution_count": 29,
   "metadata": {},
   "outputs": [
    {
     "data": {
      "text/plain": [
       "('Embeddings',\n",
       " P@5    0.4700\n",
       " P@10   0.3930\n",
       " dtype: float64,\n",
       " 'TF-IDF',\n",
       " P@5    0.5220\n",
       " P@10   0.4600\n",
       " dtype: float64)"
      ]
     },
     "execution_count": 29,
     "metadata": {},
     "output_type": "execute_result"
    }
   ],
   "source": [
    "k = 5\n",
    "result_e[f'P@{k}'] = result_e.apply(lambda row: precision_at_k( row['doc_relevant'] , row['doc_retrieval'], k), axis=1)\n",
    "result_v[f'P@{k}'] = result_v.apply(lambda row: precision_at_k( row['doc_relevant'] , row['doc_retrieval'], k), axis=1)\n",
    "\n",
    "k = 10\n",
    "result_e[f'P@{k}'] = result_e.apply(lambda row: precision_at_k( row['doc_relevant'] , row['doc_retrieval'], k), axis=1)\n",
    "result_v[f'P@{k}'] = result_v.apply(lambda row: precision_at_k( row['doc_relevant'] , row['doc_retrieval'], k), axis=1)\n",
    "\n",
    "\"Embeddings\", result_e[['P@5', 'P@10']].mean(),  \"TF-IDF\", result_v[['P@5', 'P@10']].mean()"
   ]
  },
  {
   "cell_type": "markdown",
   "metadata": {},
   "source": [
    "## R-precision"
   ]
  },
  {
   "cell_type": "code",
   "execution_count": 30,
   "metadata": {},
   "outputs": [
    {
     "data": {
      "text/plain": [
       "('Embeddings', 0.33596000000000004, 'TF-IDF', 0.37452)"
      ]
     },
     "execution_count": 30,
     "metadata": {},
     "output_type": "execute_result"
    }
   ],
   "source": [
    "pr_level_e = calculate_precision_recall_by_level(result_e)\n",
    "pr_level_v = calculate_precision_recall_by_level(result_v)\n",
    "\n",
    "\"Embeddings\", pr_level_e['precision'].mean(), \"TF-IDF\",pr_level_v['precision'].mean()"
   ]
  },
  {
   "cell_type": "code",
   "execution_count": 31,
   "metadata": {},
   "outputs": [
    {
     "data": {
      "image/png": "[encoded data removed]",
      "text/plain": [
       "<Figure size 600x400 with 1 Axes>"
      ]
     },
     "metadata": {},
     "output_type": "display_data"
    }
   ],
   "source": [
    "graph_e = pr_level_e.groupby(by=\"percent_retrieval\")[['precision', 'recall']].mean()\n",
    "graph_v = pr_level_v.groupby(by=\"percent_retrieval\")[['precision', 'recall']].mean()\n",
    "\n",
    "plt.figure(figsize=(6, 4))\n",
    "plt.plot(graph_e.index/100, graph_e['precision'], marker='o', linestyle='-', color='black', label='Embeddings')\n",
    "plt.plot(graph_v.index/100, graph_v['precision'], marker='+', linestyle='-',  color='gray', label='TF-IDF')\n",
    "\n",
    "plt.xlabel('Revocação')\n",
    "plt.ylabel('Precisão')\n",
    "plt.title('Precisão-R')\n",
    "\n",
    "# Exibir o gráfico\n",
    "plt.legend()\n",
    "plt.grid(True)\n",
    "plt.show()"
   ]
  },
  {
   "cell_type": "markdown",
   "metadata": {},
   "source": [
    "## MRR(Q) Sh=5"
   ]
  },
  {
   "cell_type": "code",
   "execution_count": 32,
   "metadata": {},
   "outputs": [
    {
     "data": {
      "text/plain": [
       "((3, 13), (1, 13))"
      ]
     },
     "execution_count": 32,
     "metadata": {},
     "output_type": "execute_result"
    }
   ],
   "source": [
    "result_e['first_position'] = result_e.apply(lambda row: find_first_position(row['doc_relevant'], row['doc_retrieval']), axis=1)\n",
    "result_v['first_position'] = result_v.apply(lambda row: find_first_position(row['doc_relevant'], row['doc_retrieval']), axis=1)\n",
    "\n",
    "result_e.query('first_position == -1').shape, result_v.query('first_position == -1').shape"
   ]
  },
  {
   "cell_type": "code",
   "execution_count": 33,
   "metadata": {},
   "outputs": [
    {
     "name": "stdout",
     "output_type": "stream",
     "text": [
      "Mrr(Q)\n",
      "Embedings 0.88\n",
      "Vectorize 0.93\n"
     ]
    }
   ],
   "source": [
    "mrr_e = calculate_mrr(result_e, 5)\n",
    "mrr_v = calculate_mrr(result_v, 5)\n",
    "print(f\"Mrr(Q)\\nEmbedings {mrr_e}\\nVectorize {mrr_v}\")"
   ]
  },
  {
   "cell_type": "markdown",
   "metadata": {},
   "source": [
    "## Histogram TOP-20 "
   ]
  },
  {
   "cell_type": "code",
   "execution_count": 34,
   "metadata": {},
   "outputs": [
    {
     "data": {
      "image/png": "[encoded data removed]",
      "text/plain": [
       "<Figure size 600x400 with 1 Axes>"
      ]
     },
     "metadata": {},
     "output_type": "display_data"
    }
   ],
   "source": [
    "sist_e = pr_level_e.query(\"id_query <= 20 \").groupby(\"id_query\")['precision'].mean().reset_index()\n",
    "sist_v = pr_level_v.query(\"id_query <= 20 \").groupby(\"id_query\")['precision'].mean().reset_index()\n",
    "\n",
    "r_precision = sist_e['precision'] - sist_v['precision']\n",
    "r_precision = r_precision.reset_index()\n",
    "r_precision = r_precision.astype({'index':str})\n",
    "\n",
    "colors = ['gray' if val < 0 else 'black' for val in r_precision['precision']]\n",
    "plt.figure(figsize=(6, 4))\n",
    "plt.bar(x=r_precision['index'], height=r_precision['precision'], color=colors)\n",
    "# Adicionar rótulos e título\n",
    "plt.grid(True)\n",
    "plt.xlabel('Consultas')\n",
    "plt.ylabel('Precisão')\n",
    "plt.title('Histograma da Precisão-R')\n",
    "\n",
    "# Adicionar anotações para os grupos\n",
    "plt.text(16, 0.29, 'TF-IDF', color='gray', bbox=dict(facecolor='gray', alpha=0.5))\n",
    "plt.text(16, 0.25, 'Embeddings', color='black', bbox=dict(facecolor='black', alpha=0.5))\n",
    "\n",
    "# Exibir o gráfico\n",
    "plt.show()"
   ]
  }
 ],
 "metadata": {
  "kernelspec": {
   "display_name": "information_retrieval",
   "language": "python",
   "name": "python3"
  },
  "language_info": {
   "codemirror_mode": {
    "name": "ipython",
    "version": 3
   },
   "file_extension": ".py",
   "mimetype": "text/x-python",
   "name": "python",
   "nbconvert_exporter": "python",
   "pygments_lexer": "ipython3",
   "version": "3.11.5"
  },
  "orig_nbformat": 4
 },
 "nbformat": 4,
 "nbformat_minor": 2
}
